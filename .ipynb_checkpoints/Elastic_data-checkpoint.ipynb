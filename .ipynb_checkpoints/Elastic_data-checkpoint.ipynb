{
 "cells": [
  {
   "cell_type": "code",
   "execution_count": 5,
   "metadata": {},
   "outputs": [],
   "source": [
    "import json\n",
    "import requests\n",
    "import datetime\n",
    "import time\n",
    "import os\n",
    "# import psycopg2\n",
    "import pandas as pd\n",
    "import urllib.request\n",
    "import json\n",
    "import csv\n",
    "\n",
    "from pprint import pprint\n",
    "# from psycopg2.extensions import ISOLATION_LEVEL_AUTOCOMMIT \n",
    "\n",
    "from elasticsearch import Elasticsearch, helpers"
   ]
  },
  {
   "cell_type": "code",
   "execution_count": 6,
   "metadata": {},
   "outputs": [],
   "source": [
    "es = Elasticsearch()\n",
    "list_divvy_stations_documents = []"
   ]
  },
  {
   "cell_type": "code",
   "execution_count": 9,
   "metadata": {},
   "outputs": [],
   "source": [
    "with open('Divvy_Trips_2018.csv') as f:\n",
    "    reader = csv.DictReader(f)\n",
    "    \n",
    "#     print(reader)\n",
    "    helpers.bulk(es, reader, index='divy_trips', doc_type='logs')"
   ]
  },
  {
   "cell_type": "code",
   "execution_count": null,
   "metadata": {},
   "outputs": [],
   "source": []
  }
 ],
 "metadata": {
  "kernelspec": {
   "display_name": "Python 3",
   "language": "python",
   "name": "python3"
  },
  "language_info": {
   "codemirror_mode": {
    "name": "ipython",
    "version": 3
   },
   "file_extension": ".py",
   "mimetype": "text/x-python",
   "name": "python",
   "nbconvert_exporter": "python",
   "pygments_lexer": "ipython3",
   "version": "3.6.7"
  }
 },
 "nbformat": 4,
 "nbformat_minor": 2
}
